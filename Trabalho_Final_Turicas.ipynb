{
  "nbformat": 4,
  "nbformat_minor": 0,
  "metadata": {
    "colab": {
      "name": "Trabalho Final Turicas.ipynb",
      "provenance": []
    },
    "kernelspec": {
      "name": "python3",
      "display_name": "Python 3"
    },
    "language_info": {
      "name": "python"
    }
  },
  "cells": [
    {
      "cell_type": "markdown",
      "metadata": {
        "id": "gNWJO7vb--it"
      },
      "source": [
        "# **Programa que imprime uma lista de notícias sobre saúde publicadas pelo G1**\n",
        "\n",
        "**Por que ele é útil?**\n",
        "\n",
        "Para me atualizar sobre o que sites concorrentes estão publicando na editoria de saúde\n",
        "\n",
        "\n"
      ]
    },
    {
      "cell_type": "code",
      "metadata": {
        "id": "PdZpV4VrgUsw",
        "colab": {
          "base_uri": "https://localhost:8080/"
        },
        "outputId": "0de5d742-dc37-4ade-a7dc-f94bdf83d763"
      },
      "source": [
        "import requests # extraindo dados\n",
        "from bs4 import BeautifulSoup # visualizando o HTML\n",
        "import pandas as pd # limpando e criando uma tabela\n",
        "\n",
        "lista_noticias = []\n",
        "\n",
        "response = requests.get('https://g1.globo.com/saude/') # solicitando o html\n",
        "\n",
        "content = response.content # imprimindo o conteúdo e salvando em uma variável\n",
        "\n",
        "site = BeautifulSoup(content, 'html.parser') # informando ao BeautifulSoup que o conteúdo está em HTML\n",
        "\n",
        "# HTML da notícia\n",
        "noticias = site.findAll('div', attrs={'class': 'feed-post-body'}) # selecionando todas as notícias e especificando qual tag e classe eu quero\n",
        "\n",
        "# Extraindo as noticias\n",
        "for noticia in noticias:\n",
        "  \n",
        "  titulo = noticia.find('a', attrs={'class': 'feed-post-link'})\n",
        "\n",
        "  print(titulo.text) # pegando o título da notícia\n",
        "  print(titulo['href']) # pegando o link da notícia\n",
        "\n",
        "  subtitulo = noticia.find('div', attrs={'class': 'feed-post-body-resumo'}) # pegando o subtítulo da notícia\n",
        "# como algumas notícias não têm subtítulo eu fiz um if else\n",
        "  if (subtitulo):\n",
        "    print(subtitulo.text)\n",
        "    lista_noticias.append([titulo.text, subtitulo.text, titulo['href']])\n",
        "  else:\n",
        "    lista_noticias.append([titulo.text, '', titulo['href']])\n",
        "\n",
        "# Convertendo os dados para uma tabela Excel\n",
        "news = pd.DataFrame(lista_noticias, columns=['Título', 'Subtítulo', 'Link']) \n",
        "\n",
        "news.to_excel('noticias.xlsx', index=False)"
      ],
      "execution_count": 1,
      "outputs": [
        {
          "output_type": "stream",
          "name": "stdout",
          "text": [
            "Por que as conversas triviais são tão importantes para nossa saúde mental\n",
            "https://g1.globo.com/ciencia-e-saude/viva-voce/noticia/2021/10/11/por-que-as-conversas-triviais-sao-tao-importantes-para-nossa-saude-mental.ghtml\n",
            "As trocas de palavras com estranhos sobre nada importante em particular, curiosamente, são as que nos ajudam a se sentir conectados com o mundo.\n",
            "Especialistas da OMS recomendam 3ª dose de vacina da Covid para idosos que receberam CoronaVac e imunossuprimidos\n",
            "https://g1.globo.com/saude/coronavirus/vacinas/noticia/2021/10/11/oms-terceira-dose.ghtml\n",
            "Pacientes com problemas no sistema imunológico deverão receber terceira dose independentemente de qual vacina receberam nas primeiras dose; recomendação para idosos vale para público a partir dos 60 anos. \n",
            "Estudo francês confirma que vacinas contra Covid reduzem em 90% risco de hospitalização e morte\n",
            "https://g1.globo.com/mundo/noticia/2021/10/11/estudo-frances-confirma-que-vacinas-contra-covid-reduzem-em-90percent-risco-de-hospitalizacao-e-morte.ghtml\n",
            "Os autores analisaram os dados de 22 milhões de pessoas de mais de 50 anos e concluíram que os vacinados contra a Covid-19 têm nove vezes menos riscos de serem hospitalizados ou de morrer do SARS-CoV-2 que os não vacinados. \n",
            "Nos EUA, Merck pede autorização da FDA para uso de emergência de comprimido contra Covid-19 \n",
            "https://g1.globo.com/saude/coronavirus/noticia/2021/10/11/nos-eua-merck-pede-autorizacao-da-fda-para-uso-de-comprimido-contra-covid-19.ghtml\n",
            "Farmacêutica é conhecida no Brasil como MSD. Se autorização for concedida – o que pode levar algumas semanas –, o remédio será o primeiro em formato de comprimido para tratar a doença.\n",
            "A perigosa moda no TikTok de tomar suplemento energético em pó\n",
            "https://g1.globo.com/bemestar/viva-voce/noticia/2021/10/11/a-perigosa-moda-no-tiktok-de-tomar-suplemento-energetico-em-po.ghtml\n",
            "Pesquisadores alertam que prática antes de treino físico pode causar elevação da pressão sanguínea e do batimento cardíaco, levando a distúrbios no coração.\n",
            "Coquetel contra a Covid da AstraZeneca reduz casos graves e mortes pela doença, diz farmacêutica\n",
            "https://g1.globo.com/saude/coronavirus/noticia/2021/10/11/astrazeneca-coquetel-anticovid.ghtml\n",
            "A empresa anunciou os resultados de um teste final da combinação de drogas em um comunicado. Estudo e resultados ainda não foram publicados em revista científica. Medicamento não está à venda.\n",
            "Por que estudo do sexo no espaço é fundamental para futuro da humanidade\n",
            "https://g1.globo.com/bemestar/noticia/2021/10/10/por-que-estudo-do-sexo-no-espaco-e-fundamental-para-futuro-da-humanidade.ghtml\n",
            "Grupo de especialistas canadenses argumenta que missões espaciais devem passar a discutir sexo no espaço para sobrevivência e bem-estar humanos.\n",
            "Brasil tem 601 mil mortos por Covid; média móvel é de 437 vítimas por dia, a menor desde novembro\n",
            "https://g1.globo.com/saude/coronavirus/noticia/2021/10/10/brasil-tem-601-mil-mortos-por-covid-media-movel-e-de-437-vitimas-por-dia-a-menor-desde-novembro.ghtml\n",
            "País contabiliza 601.047 óbitos e 21.573.883 casos de coronavírus desde o início da pandemia, segundo balanço do consórcio de veículos de imprensa com dados das secretarias de Saúde.\n",
            "Vacinação contra Covid: 99,1 milhões de brasileiros estão totalmente imunizados; 70% da população tomou ao menos uma dose\n",
            "https://g1.globo.com/saude/coronavirus/vacinas/noticia/2021/10/10/vacinacao-contra-covid-99-milhoes-de-brasileiros-estao-totalmente-imunizados-70percent-da-populacao-tomou-ao-menos-uma-dose.ghtml\n",
            "Somando a primeira, a segunda, a dose única e a dose de reforço, país aplicou 250.903.202 doses desde o começo da vacinação. Levantamento é feito junto a secretarias de Saúde dos estados.\n",
            "‘Perdi meu emprego de professor por recusar vacina’: os americanos que não aceitam se imunizar\n",
            "https://g1.globo.com/mundo/noticia/2021/10/10/perdi-meu-emprego-de-professor-por-recusar-vacina-os-americanos-que-nao-aceitam-se-imunizar.ghtml\n",
            "Professor, enfermeira e profissional de TI dizem preferir perder o trabalho a tomar vacina.\n"
          ]
        }
      ]
    }
  ]
}